{
 "cells": [
  {
   "cell_type": "code",
   "execution_count": 1,
   "id": "initial_id",
   "metadata": {},
   "outputs": [],
   "source": [
    "from Fundamentals import BSE"
   ]
  },
  {
   "cell_type": "code",
   "execution_count": 4,
   "id": "b4bd4448923d5528",
   "metadata": {
    "collapsed": false,
    "jupyter": {
     "outputs_hidden": false
    }
   },
   "outputs": [],
   "source": [
    "bse = BSE()"
   ]
  },
  {
   "cell_type": "code",
   "execution_count": 5,
   "id": "47845014a2c87fbf",
   "metadata": {
    "collapsed": false,
    "jupyter": {
     "outputs_hidden": false
    }
   },
   "outputs": [],
   "source": [
    "# To download Annual FEW Reports : specify from_year and to_year\n",
    "bse.download_annual_reports(bse_code='542907', from_year='2021', to_year='2023', folder_path='.')"
   ]
  },
  {
   "cell_type": "code",
   "execution_count": 4,
   "id": "c5699871eb5f261a",
   "metadata": {
    "collapsed": false,
    "jupyter": {
     "outputs_hidden": false
    }
   },
   "outputs": [
    {
     "name": "stdout",
     "output_type": "stream",
     "text": [
      " Volume in drive D is Data\n",
      " Volume Serial Number is E642-3C88\n",
      "\n",
      " Directory of D:\\Projects\\Bharat-SM-Data\\examples\\542907\n",
      "\n",
      "20-01-2024  05:15 PM    <DIR>          .\n",
      "20-01-2024  05:21 PM    <DIR>          ..\n",
      "20-01-2024  05:22 PM         3,477,303 2021.pdf\n",
      "20-01-2024  05:22 PM         6,065,421 2022.pdf\n",
      "20-01-2024  05:22 PM         4,632,943 2023.pdf\n",
      "               3 File(s)     14,175,667 bytes\n",
      "               2 Dir(s)  62,464,458,752 bytes free\n"
     ]
    }
   ],
   "source": [
    "!dir 542907"
   ]
  },
  {
   "cell_type": "code",
   "execution_count": 5,
   "id": "279a0431e3dfef1b",
   "metadata": {
    "collapsed": false,
    "jupyter": {
     "outputs_hidden": false
    }
   },
   "outputs": [],
   "source": [
    "# To download ALL Annual Reports : don't specify from_year and to_year\n",
    "bse.download_annual_reports(bse_code='500209')"
   ]
  },
  {
   "cell_type": "code",
   "execution_count": 6,
   "id": "81e06db56d1f6da2",
   "metadata": {
    "collapsed": false,
    "jupyter": {
     "outputs_hidden": false
    }
   },
   "outputs": [
    {
     "name": "stdout",
     "output_type": "stream",
     "text": [
      " Volume in drive D is Data\n",
      " Volume Serial Number is E642-3C88\n",
      "\n",
      " Directory of D:\\Projects\\Bharat-SM-Data\\examples\\500209\n",
      "\n",
      "20-01-2024  05:15 PM    <DIR>          .\n",
      "20-01-2024  05:21 PM    <DIR>          ..\n",
      "20-01-2024  05:22 PM         7,760,493 1997.pdf\n",
      "20-01-2024  05:22 PM        10,951,549 1998.pdf\n",
      "20-01-2024  05:22 PM        12,539,636 1999.pdf\n",
      "20-01-2024  05:22 PM        10,727,619 2000.pdf\n",
      "20-01-2024  05:22 PM        15,732,410 2001.pdf\n",
      "20-01-2024  05:22 PM        15,983,008 2002.pdf\n",
      "20-01-2024  05:22 PM        14,767,773 2003.pdf\n",
      "20-01-2024  05:22 PM        23,400,441 2004.pdf\n",
      "20-01-2024  05:22 PM        26,808,212 2005.pdf\n",
      "20-01-2024  05:22 PM         2,291,643 2006.pdf\n",
      "20-01-2024  05:22 PM         4,381,794 2007.pdf\n",
      "20-01-2024  05:22 PM         4,957,034 2008.pdf\n",
      "20-01-2024  05:22 PM         2,534,028 2009.pdf\n",
      "20-01-2024  05:22 PM         3,323,878 2010.pdf\n",
      "20-01-2024  05:22 PM         5,698,015 2011.pdf\n",
      "20-01-2024  05:22 PM         4,073,332 2012.pdf\n",
      "20-01-2024  05:22 PM         6,508,597 2013.pdf\n",
      "20-01-2024  05:22 PM         3,995,776 2014.pdf\n",
      "20-01-2024  05:22 PM         4,321,958 2015.pdf\n",
      "20-01-2024  05:22 PM         9,376,945 2016.pdf\n",
      "20-01-2024  05:22 PM         5,090,351 2017.pdf\n",
      "20-01-2024  05:22 PM         6,606,634 2018.pdf\n",
      "20-01-2024  05:22 PM        13,024,115 2019.pdf\n",
      "20-01-2024  05:22 PM         9,161,008 2020.pdf\n",
      "20-01-2024  05:22 PM         5,182,145 2021.pdf\n",
      "20-01-2024  05:22 PM        10,021,499 2022.pdf\n",
      "20-01-2024  05:22 PM        13,894,776 2023.pdf\n",
      "              27 File(s)    253,114,669 bytes\n",
      "               2 Dir(s)  62,460,907,520 bytes free\n"
     ]
    }
   ],
   "source": [
    "!dir 500209"
   ]
  },
  {
   "cell_type": "code",
   "execution_count": null,
   "id": "b92005ce-f050-419e-86a2-acf8867ee250",
   "metadata": {},
   "outputs": [],
   "source": []
  }
 ],
 "metadata": {
  "kernelspec": {
   "display_name": "Python 3 (ipykernel)",
   "language": "python",
   "name": "python3"
  }
 },
 "nbformat": 4,
 "nbformat_minor": 5
}
