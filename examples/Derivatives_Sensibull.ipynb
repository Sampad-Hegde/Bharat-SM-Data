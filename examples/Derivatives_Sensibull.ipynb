{
 "cells": [
  {
   "cell_type": "code",
   "execution_count": 1,
   "id": "940f23a22a6dca32",
   "metadata": {
    "ExecuteTime": {
     "end_time": "2023-11-05T10:13:14.545382400Z",
     "start_time": "2023-11-05T10:13:14.145500100Z"
    },
    "collapsed": false,
    "jupyter": {
     "outputs_hidden": false
    }
   },
   "outputs": [],
   "source": [
    "from Derivatives import Sensibull\n",
    "from datetime import datetime\n",
    "from Derivatives import NSE"
   ]
  },
  {
   "cell_type": "code",
   "execution_count": 2,
   "id": "6db9e7a78c5f80aa",
   "metadata": {
    "ExecuteTime": {
     "end_time": "2023-09-19T14:34:14.499998900Z",
     "start_time": "2023-09-19T14:34:13.090463300Z"
    },
    "collapsed": false,
    "jupyter": {
     "outputs_hidden": false
    }
   },
   "outputs": [],
   "source": [
    "sb = Sensibull()\n",
    "nse = NSE()"
   ]
  },
  {
   "cell_type": "markdown",
   "id": "f1ae59b0d1c4ca9b",
   "metadata": {
    "collapsed": false,
    "jupyter": {
     "outputs_hidden": false
    }
   },
   "source": [
    "# Option Chain with Options Greeks.\n",
    "## Option Chain for Indices"
   ]
  },
  {
   "cell_type": "code",
   "execution_count": 3,
   "id": "a71557e74d201b13",
   "metadata": {
    "ExecuteTime": {
     "end_time": "2023-09-19T14:35:20.056835100Z",
     "start_time": "2023-09-19T14:35:19.833784100Z"
    },
    "collapsed": false,
    "jupyter": {
     "outputs_hidden": false
    }
   },
   "outputs": [
    {
     "data": {
      "text/plain": [
       "(256265,\n",
       " {'instrument_token': 256265,\n",
       "  'name': 'NIFTY',\n",
       "  'tradingsymbol': 'NIFTY',\n",
       "  'underlying_instrument': 'NIFTY',\n",
       "  'expiry': '',\n",
       "  'strike': 0.0,\n",
       "  'tick_size': 0.0,\n",
       "  'lot_size': 0.0,\n",
       "  'multiplier': 1.0,\n",
       "  'is_underlying': True,\n",
       "  'is_non_fno': False,\n",
       "  'tradable': False,\n",
       "  'broker': '2',\n",
       "  'mode': 'full',\n",
       "  'exchange': 'NSE',\n",
       "  'segment': 'NSE-INDICES',\n",
       "  'instrument_type': 'EQ',\n",
       "  'last_price': 25449.75,\n",
       "  'last_updated_at': '2025-07-07T11:43:59+05:30',\n",
       "  'last_traded_timestamp': 0,\n",
       "  'sectors': ['Misc']})"
      ]
     },
     "execution_count": 3,
     "metadata": {},
     "output_type": "execute_result"
    }
   ],
   "source": [
    "# Searching\n",
    "sb_nifty_token = sb.search_token('NIFTY')\n",
    "expiry = nse.get_options_expiry('NIFTY', is_index=True)\n",
    "sb_nifty_token.get('instrument_token'), sb_nifty_token"
   ]
  },
  {
   "cell_type": "code",
   "execution_count": 4,
   "id": "440d0070-33d1-4a8e-bd7e-04827ae197aa",
   "metadata": {},
   "outputs": [
    {
     "data": {
      "text/plain": [
       "[datetime.datetime(2025, 7, 10, 0, 0),\n",
       " datetime.datetime(2025, 7, 17, 0, 0),\n",
       " datetime.datetime(2025, 7, 24, 0, 0),\n",
       " datetime.datetime(2025, 7, 31, 0, 0),\n",
       " datetime.datetime(2025, 8, 7, 0, 0),\n",
       " datetime.datetime(2025, 8, 28, 0, 0),\n",
       " datetime.datetime(2025, 9, 25, 0, 0),\n",
       " datetime.datetime(2025, 12, 24, 0, 0),\n",
       " datetime.datetime(2026, 3, 26, 0, 0),\n",
       " datetime.datetime(2026, 6, 25, 0, 0),\n",
       " datetime.datetime(2026, 12, 31, 0, 0),\n",
       " datetime.datetime(2027, 6, 24, 0, 0),\n",
       " datetime.datetime(2027, 12, 30, 0, 0),\n",
       " datetime.datetime(2028, 6, 29, 0, 0),\n",
       " datetime.datetime(2028, 12, 28, 0, 0),\n",
       " datetime.datetime(2029, 6, 28, 0, 0),\n",
       " datetime.datetime(2029, 12, 27, 0, 0),\n",
       " datetime.datetime(2030, 6, 25, 0, 0)]"
      ]
     },
     "execution_count": 4,
     "metadata": {},
     "output_type": "execute_result"
    }
   ],
   "source": [
    "expiry"
   ]
  },
  {
   "cell_type": "code",
   "execution_count": 5,
   "id": "a3acf005ca6f53c6",
   "metadata": {
    "ExecuteTime": {
     "end_time": "2023-09-19T14:35:29.400739100Z",
     "start_time": "2023-09-19T14:35:29.037209800Z"
    },
    "collapsed": false,
    "jupyter": {
     "outputs_hidden": false
    }
   },
   "outputs": [],
   "source": [
    "greeks_df, atm_strike = sb.get_options_data_with_greeks(sb_nifty_token, num_look_ups_from_atm=10, expiry_date=expiry[0])"
   ]
  },
  {
   "cell_type": "code",
   "execution_count": 6,
   "id": "2f106ebb83581a40",
   "metadata": {
    "ExecuteTime": {
     "end_time": "2023-09-19T14:35:32.357712400Z",
     "start_time": "2023-09-19T14:35:32.329708600Z"
    },
    "collapsed": false,
    "jupyter": {
     "outputs_hidden": false
    }
   },
   "outputs": [
    {
     "data": {
      "text/plain": [
       "25450.0"
      ]
     },
     "execution_count": 6,
     "metadata": {},
     "output_type": "execute_result"
    }
   ],
   "source": [
    "atm_strike"
   ]
  },
  {
   "cell_type": "code",
   "execution_count": 7,
   "id": "a5d68acf8c245877",
   "metadata": {
    "ExecuteTime": {
     "end_time": "2023-09-19T14:35:32.650675500Z",
     "start_time": "2023-09-19T14:35:32.605184400Z"
    },
    "collapsed": false,
    "jupyter": {
     "outputs_hidden": false
    }
   },
   "outputs": [
    {
     "data": {
      "text/html": [
       "<div>\n",
       "<style scoped>\n",
       "    .dataframe tbody tr th:only-of-type {\n",
       "        vertical-align: middle;\n",
       "    }\n",
       "\n",
       "    .dataframe tbody tr th {\n",
       "        vertical-align: top;\n",
       "    }\n",
       "\n",
       "    .dataframe thead th {\n",
       "        text-align: right;\n",
       "    }\n",
       "</style>\n",
       "<table border=\"1\" class=\"dataframe\">\n",
       "  <thead>\n",
       "    <tr style=\"text-align: right;\">\n",
       "      <th></th>\n",
       "      <th>future_price</th>\n",
       "      <th>strike</th>\n",
       "      <th>CE.tradingsymbol</th>\n",
       "      <th>PE.tradingsymbol</th>\n",
       "      <th>CE.last_price</th>\n",
       "      <th>CE.ltp_change</th>\n",
       "      <th>CE.last_trade_time</th>\n",
       "      <th>CE.oi</th>\n",
       "      <th>CE.oi_change</th>\n",
       "      <th>CE.volume</th>\n",
       "      <th>...</th>\n",
       "      <th>PE.ltp_change</th>\n",
       "      <th>PE.last_trade_time</th>\n",
       "      <th>PE.oi</th>\n",
       "      <th>PE.oi_change</th>\n",
       "      <th>PE.volume</th>\n",
       "      <th>PE.greeks_with_iv.theta</th>\n",
       "      <th>PE.greeks_with_iv.delta</th>\n",
       "      <th>PE.greeks_with_iv.gamma</th>\n",
       "      <th>PE.greeks_with_iv.vega</th>\n",
       "      <th>PE.greeks_with_iv.iv</th>\n",
       "    </tr>\n",
       "  </thead>\n",
       "  <tbody>\n",
       "    <tr>\n",
       "      <th>0</th>\n",
       "      <td>25460.20419</td>\n",
       "      <td>24950</td>\n",
       "      <td>NIFTY2571024950CE</td>\n",
       "      <td>NIFTY2571024950PE</td>\n",
       "      <td>525.35</td>\n",
       "      <td>-0.02</td>\n",
       "      <td>2025-07-07T06:13:59Z</td>\n",
       "      <td>17175</td>\n",
       "      <td>0.027</td>\n",
       "      <td>22950</td>\n",
       "      <td>...</td>\n",
       "      <td>-0.35</td>\n",
       "      <td>2025-07-07T06:13:57Z</td>\n",
       "      <td>1630050</td>\n",
       "      <td>0.297</td>\n",
       "      <td>9982875</td>\n",
       "      <td>-7.77</td>\n",
       "      <td>-0.07</td>\n",
       "      <td>0.0004</td>\n",
       "      <td>3.27</td>\n",
       "      <td>0.150126</td>\n",
       "    </tr>\n",
       "    <tr>\n",
       "      <th>1</th>\n",
       "      <td>25460.20419</td>\n",
       "      <td>25000</td>\n",
       "      <td>NIFTY2571025000CE</td>\n",
       "      <td>NIFTY2571025000PE</td>\n",
       "      <td>474.20</td>\n",
       "      <td>-0.03</td>\n",
       "      <td>2025-07-07T06:13:57Z</td>\n",
       "      <td>562650</td>\n",
       "      <td>0.085</td>\n",
       "      <td>929850</td>\n",
       "      <td>...</td>\n",
       "      <td>-0.33</td>\n",
       "      <td>2025-07-07T06:13:59Z</td>\n",
       "      <td>8912700</td>\n",
       "      <td>0.428</td>\n",
       "      <td>36213675</td>\n",
       "      <td>-8.80</td>\n",
       "      <td>-0.09</td>\n",
       "      <td>0.0005</td>\n",
       "      <td>3.80</td>\n",
       "      <td>0.146102</td>\n",
       "    </tr>\n",
       "    <tr>\n",
       "      <th>2</th>\n",
       "      <td>25460.20419</td>\n",
       "      <td>25050</td>\n",
       "      <td>NIFTY2571025050CE</td>\n",
       "      <td>NIFTY2571025050PE</td>\n",
       "      <td>427.80</td>\n",
       "      <td>-0.04</td>\n",
       "      <td>2025-07-07T06:13:53Z</td>\n",
       "      <td>20550</td>\n",
       "      <td>-0.025</td>\n",
       "      <td>49050</td>\n",
       "      <td>...</td>\n",
       "      <td>-0.31</td>\n",
       "      <td>2025-07-07T06:13:59Z</td>\n",
       "      <td>1587150</td>\n",
       "      <td>0.354</td>\n",
       "      <td>12337500</td>\n",
       "      <td>-9.81</td>\n",
       "      <td>-0.11</td>\n",
       "      <td>0.0006</td>\n",
       "      <td>4.38</td>\n",
       "      <td>0.141567</td>\n",
       "    </tr>\n",
       "    <tr>\n",
       "      <th>3</th>\n",
       "      <td>25460.20419</td>\n",
       "      <td>25100</td>\n",
       "      <td>NIFTY2571025100CE</td>\n",
       "      <td>NIFTY2571025100PE</td>\n",
       "      <td>382.00</td>\n",
       "      <td>-0.05</td>\n",
       "      <td>2025-07-07T06:13:58Z</td>\n",
       "      <td>210750</td>\n",
       "      <td>0.155</td>\n",
       "      <td>783525</td>\n",
       "      <td>...</td>\n",
       "      <td>-0.28</td>\n",
       "      <td>2025-07-07T06:13:59Z</td>\n",
       "      <td>3771300</td>\n",
       "      <td>0.009</td>\n",
       "      <td>27579975</td>\n",
       "      <td>-11.04</td>\n",
       "      <td>-0.13</td>\n",
       "      <td>0.0007</td>\n",
       "      <td>5.06</td>\n",
       "      <td>0.137869</td>\n",
       "    </tr>\n",
       "    <tr>\n",
       "      <th>4</th>\n",
       "      <td>25460.20419</td>\n",
       "      <td>25150</td>\n",
       "      <td>NIFTY2571025150CE</td>\n",
       "      <td>NIFTY2571025150PE</td>\n",
       "      <td>342.65</td>\n",
       "      <td>-0.04</td>\n",
       "      <td>2025-07-07T06:13:58Z</td>\n",
       "      <td>73950</td>\n",
       "      <td>0.034</td>\n",
       "      <td>325425</td>\n",
       "      <td>...</td>\n",
       "      <td>-0.27</td>\n",
       "      <td>2025-07-07T06:13:59Z</td>\n",
       "      <td>2486925</td>\n",
       "      <td>0.356</td>\n",
       "      <td>18289950</td>\n",
       "      <td>-12.34</td>\n",
       "      <td>-0.16</td>\n",
       "      <td>0.0008</td>\n",
       "      <td>5.80</td>\n",
       "      <td>0.134345</td>\n",
       "    </tr>\n",
       "  </tbody>\n",
       "</table>\n",
       "<p>5 rows × 26 columns</p>\n",
       "</div>"
      ],
      "text/plain": [
       "   future_price  strike   CE.tradingsymbol   PE.tradingsymbol  CE.last_price  \\\n",
       "0   25460.20419   24950  NIFTY2571024950CE  NIFTY2571024950PE         525.35   \n",
       "1   25460.20419   25000  NIFTY2571025000CE  NIFTY2571025000PE         474.20   \n",
       "2   25460.20419   25050  NIFTY2571025050CE  NIFTY2571025050PE         427.80   \n",
       "3   25460.20419   25100  NIFTY2571025100CE  NIFTY2571025100PE         382.00   \n",
       "4   25460.20419   25150  NIFTY2571025150CE  NIFTY2571025150PE         342.65   \n",
       "\n",
       "   CE.ltp_change    CE.last_trade_time   CE.oi  CE.oi_change  CE.volume  ...  \\\n",
       "0          -0.02  2025-07-07T06:13:59Z   17175         0.027      22950  ...   \n",
       "1          -0.03  2025-07-07T06:13:57Z  562650         0.085     929850  ...   \n",
       "2          -0.04  2025-07-07T06:13:53Z   20550        -0.025      49050  ...   \n",
       "3          -0.05  2025-07-07T06:13:58Z  210750         0.155     783525  ...   \n",
       "4          -0.04  2025-07-07T06:13:58Z   73950         0.034     325425  ...   \n",
       "\n",
       "   PE.ltp_change    PE.last_trade_time    PE.oi  PE.oi_change  PE.volume  \\\n",
       "0          -0.35  2025-07-07T06:13:57Z  1630050         0.297    9982875   \n",
       "1          -0.33  2025-07-07T06:13:59Z  8912700         0.428   36213675   \n",
       "2          -0.31  2025-07-07T06:13:59Z  1587150         0.354   12337500   \n",
       "3          -0.28  2025-07-07T06:13:59Z  3771300         0.009   27579975   \n",
       "4          -0.27  2025-07-07T06:13:59Z  2486925         0.356   18289950   \n",
       "\n",
       "   PE.greeks_with_iv.theta  PE.greeks_with_iv.delta PE.greeks_with_iv.gamma  \\\n",
       "0                    -7.77                    -0.07                  0.0004   \n",
       "1                    -8.80                    -0.09                  0.0005   \n",
       "2                    -9.81                    -0.11                  0.0006   \n",
       "3                   -11.04                    -0.13                  0.0007   \n",
       "4                   -12.34                    -0.16                  0.0008   \n",
       "\n",
       "   PE.greeks_with_iv.vega  PE.greeks_with_iv.iv  \n",
       "0                    3.27              0.150126  \n",
       "1                    3.80              0.146102  \n",
       "2                    4.38              0.141567  \n",
       "3                    5.06              0.137869  \n",
       "4                    5.80              0.134345  \n",
       "\n",
       "[5 rows x 26 columns]"
      ]
     },
     "execution_count": 7,
     "metadata": {},
     "output_type": "execute_result"
    }
   ],
   "source": [
    "greeks_df.head()"
   ]
  },
  {
   "cell_type": "markdown",
   "id": "ceab769435919a98",
   "metadata": {
    "collapsed": false,
    "jupyter": {
     "outputs_hidden": false
    }
   },
   "source": [
    "# Option Chain with Options Greeks.\n",
    "## Option Chain for Equities"
   ]
  },
  {
   "cell_type": "code",
   "execution_count": 8,
   "id": "306ffb38d911a887",
   "metadata": {
    "ExecuteTime": {
     "end_time": "2023-09-19T14:40:07.937986700Z",
     "start_time": "2023-09-19T14:40:07.693883400Z"
    },
    "collapsed": false,
    "jupyter": {
     "outputs_hidden": false
    }
   },
   "outputs": [
    {
     "data": {
      "text/plain": [
       "(779521,\n",
       " {'instrument_token': 779521,\n",
       "  'name': 'STATE BANK OF INDIA',\n",
       "  'tradingsymbol': 'SBIN',\n",
       "  'underlying_instrument': 'SBIN',\n",
       "  'expiry': '',\n",
       "  'strike': 0.0,\n",
       "  'tick_size': 0.05,\n",
       "  'lot_size': 1.0,\n",
       "  'multiplier': 1.0,\n",
       "  'is_underlying': True,\n",
       "  'is_non_fno': False,\n",
       "  'tradable': True,\n",
       "  'broker': '2',\n",
       "  'mode': 'full',\n",
       "  'exchange': 'NSE',\n",
       "  'segment': 'NSE',\n",
       "  'instrument_type': 'EQ',\n",
       "  'last_price': 809.05,\n",
       "  'last_quantity': 6256,\n",
       "  'volume': 1445381,\n",
       "  'oi': 0,\n",
       "  'last_updated_at': '2025-07-07T11:43:59+05:30',\n",
       "  'last_traded_timestamp': 1751868839,\n",
       "  'sectors': ['Financial Services', 'NIFTY50']})"
      ]
     },
     "execution_count": 8,
     "metadata": {},
     "output_type": "execute_result"
    }
   ],
   "source": [
    "# An example for Equity\n",
    "sb_sbi = sb.search_token('SBIN')\n",
    "expiry = nse.get_options_expiry('SBIN', is_index=False)\n",
    "sb_sbi.get('instrument_token'), sb_sbi"
   ]
  },
  {
   "cell_type": "code",
   "execution_count": 9,
   "id": "cdffd5720e537baa",
   "metadata": {
    "ExecuteTime": {
     "end_time": "2023-09-19T14:37:39.327119700Z",
     "start_time": "2023-09-19T14:37:39.295879Z"
    },
    "collapsed": false,
    "jupyter": {
     "outputs_hidden": false
    }
   },
   "outputs": [
    {
     "data": {
      "text/plain": [
       "[datetime.datetime(2025, 7, 31, 0, 0),\n",
       " datetime.datetime(2025, 8, 28, 0, 0),\n",
       " datetime.datetime(2025, 9, 30, 0, 0)]"
      ]
     },
     "execution_count": 9,
     "metadata": {},
     "output_type": "execute_result"
    }
   ],
   "source": [
    "expiry"
   ]
  },
  {
   "cell_type": "code",
   "execution_count": 10,
   "id": "d879a85f18f743c7",
   "metadata": {
    "ExecuteTime": {
     "end_time": "2023-09-19T14:37:53.229669700Z",
     "start_time": "2023-09-19T14:37:52.945309700Z"
    },
    "collapsed": false,
    "jupyter": {
     "outputs_hidden": false
    }
   },
   "outputs": [],
   "source": [
    "greeks_df, atm_strike = sb.get_options_data_with_greeks(sb_sbi, num_look_ups_from_atm=5, expiry_date=expiry[0])"
   ]
  },
  {
   "cell_type": "code",
   "execution_count": 11,
   "id": "bad10ddd4a192266",
   "metadata": {
    "ExecuteTime": {
     "end_time": "2023-09-19T14:37:57.631459800Z",
     "start_time": "2023-09-19T14:37:57.606441300Z"
    },
    "collapsed": false,
    "jupyter": {
     "outputs_hidden": false
    }
   },
   "outputs": [
    {
     "data": {
      "text/plain": [
       "810.0"
      ]
     },
     "execution_count": 11,
     "metadata": {},
     "output_type": "execute_result"
    }
   ],
   "source": [
    "atm_strike"
   ]
  },
  {
   "cell_type": "code",
   "execution_count": 12,
   "id": "f0cb65aa0ccb3102",
   "metadata": {
    "ExecuteTime": {
     "end_time": "2023-09-19T14:38:03.264769500Z",
     "start_time": "2023-09-19T14:38:03.214752300Z"
    },
    "collapsed": false,
    "jupyter": {
     "outputs_hidden": false
    }
   },
   "outputs": [
    {
     "data": {
      "text/html": [
       "<div>\n",
       "<style scoped>\n",
       "    .dataframe tbody tr th:only-of-type {\n",
       "        vertical-align: middle;\n",
       "    }\n",
       "\n",
       "    .dataframe tbody tr th {\n",
       "        vertical-align: top;\n",
       "    }\n",
       "\n",
       "    .dataframe thead th {\n",
       "        text-align: right;\n",
       "    }\n",
       "</style>\n",
       "<table border=\"1\" class=\"dataframe\">\n",
       "  <thead>\n",
       "    <tr style=\"text-align: right;\">\n",
       "      <th></th>\n",
       "      <th>future_price</th>\n",
       "      <th>strike</th>\n",
       "      <th>CE.tradingsymbol</th>\n",
       "      <th>PE.tradingsymbol</th>\n",
       "      <th>CE.last_price</th>\n",
       "      <th>CE.ltp_change</th>\n",
       "      <th>CE.last_trade_time</th>\n",
       "      <th>CE.oi</th>\n",
       "      <th>CE.oi_change</th>\n",
       "      <th>CE.volume</th>\n",
       "      <th>...</th>\n",
       "      <th>PE.ltp_change</th>\n",
       "      <th>PE.last_trade_time</th>\n",
       "      <th>PE.oi</th>\n",
       "      <th>PE.oi_change</th>\n",
       "      <th>PE.volume</th>\n",
       "      <th>PE.greeks_with_iv.theta</th>\n",
       "      <th>PE.greeks_with_iv.delta</th>\n",
       "      <th>PE.greeks_with_iv.gamma</th>\n",
       "      <th>PE.greeks_with_iv.vega</th>\n",
       "      <th>PE.greeks_with_iv.iv</th>\n",
       "    </tr>\n",
       "  </thead>\n",
       "  <tbody>\n",
       "    <tr>\n",
       "      <th>0</th>\n",
       "      <td>813.1</td>\n",
       "      <td>760</td>\n",
       "      <td>SBIN25JUL760CE</td>\n",
       "      <td>SBIN25JUL760PE</td>\n",
       "      <td>55.00</td>\n",
       "      <td>-0.03</td>\n",
       "      <td>2025-07-07T06:14:58Z</td>\n",
       "      <td>188250</td>\n",
       "      <td>0.004</td>\n",
       "      <td>19500</td>\n",
       "      <td>...</td>\n",
       "      <td>0.00</td>\n",
       "      <td>2025-07-07T06:14:58Z</td>\n",
       "      <td>1333500</td>\n",
       "      <td>0.030</td>\n",
       "      <td>267750</td>\n",
       "      <td>-0.150</td>\n",
       "      <td>-0.095</td>\n",
       "      <td>0.0040</td>\n",
       "      <td>0.354</td>\n",
       "      <td>0.204542</td>\n",
       "    </tr>\n",
       "    <tr>\n",
       "      <th>1</th>\n",
       "      <td>813.1</td>\n",
       "      <td>770</td>\n",
       "      <td>SBIN25JUL770CE</td>\n",
       "      <td>SBIN25JUL770PE</td>\n",
       "      <td>45.75</td>\n",
       "      <td>-0.04</td>\n",
       "      <td>2025-07-07T06:14:38Z</td>\n",
       "      <td>131250</td>\n",
       "      <td>-0.028</td>\n",
       "      <td>19500</td>\n",
       "      <td>...</td>\n",
       "      <td>-0.02</td>\n",
       "      <td>2025-07-07T06:14:38Z</td>\n",
       "      <td>1805250</td>\n",
       "      <td>-0.007</td>\n",
       "      <td>323250</td>\n",
       "      <td>-0.177</td>\n",
       "      <td>-0.131</td>\n",
       "      <td>0.0053</td>\n",
       "      <td>0.444</td>\n",
       "      <td>0.192738</td>\n",
       "    </tr>\n",
       "    <tr>\n",
       "      <th>2</th>\n",
       "      <td>813.1</td>\n",
       "      <td>780</td>\n",
       "      <td>SBIN25JUL780CE</td>\n",
       "      <td>SBIN25JUL780PE</td>\n",
       "      <td>37.00</td>\n",
       "      <td>-0.05</td>\n",
       "      <td>2025-07-07T06:14:58Z</td>\n",
       "      <td>565500</td>\n",
       "      <td>-0.009</td>\n",
       "      <td>63000</td>\n",
       "      <td>...</td>\n",
       "      <td>-0.01</td>\n",
       "      <td>2025-07-07T06:14:58Z</td>\n",
       "      <td>2113500</td>\n",
       "      <td>-0.007</td>\n",
       "      <td>817500</td>\n",
       "      <td>-0.216</td>\n",
       "      <td>-0.186</td>\n",
       "      <td>0.0069</td>\n",
       "      <td>0.560</td>\n",
       "      <td>0.185964</td>\n",
       "    </tr>\n",
       "    <tr>\n",
       "      <th>3</th>\n",
       "      <td>813.1</td>\n",
       "      <td>790</td>\n",
       "      <td>SBIN25JUL790CE</td>\n",
       "      <td>SBIN25JUL790PE</td>\n",
       "      <td>29.20</td>\n",
       "      <td>-0.06</td>\n",
       "      <td>2025-07-07T06:14:38Z</td>\n",
       "      <td>780750</td>\n",
       "      <td>0.011</td>\n",
       "      <td>348750</td>\n",
       "      <td>...</td>\n",
       "      <td>0.00</td>\n",
       "      <td>2025-07-07T06:14:50Z</td>\n",
       "      <td>2029500</td>\n",
       "      <td>0.007</td>\n",
       "      <td>967500</td>\n",
       "      <td>-0.253</td>\n",
       "      <td>-0.260</td>\n",
       "      <td>0.0086</td>\n",
       "      <td>0.678</td>\n",
       "      <td>0.180234</td>\n",
       "    </tr>\n",
       "    <tr>\n",
       "      <th>4</th>\n",
       "      <td>813.1</td>\n",
       "      <td>800</td>\n",
       "      <td>SBIN25JUL800CE</td>\n",
       "      <td>SBIN25JUL800PE</td>\n",
       "      <td>22.00</td>\n",
       "      <td>-0.08</td>\n",
       "      <td>2025-07-07T06:14:50Z</td>\n",
       "      <td>4608000</td>\n",
       "      <td>0.032</td>\n",
       "      <td>1476750</td>\n",
       "      <td>...</td>\n",
       "      <td>0.01</td>\n",
       "      <td>2025-07-07T06:14:58Z</td>\n",
       "      <td>5839500</td>\n",
       "      <td>0.027</td>\n",
       "      <td>2696250</td>\n",
       "      <td>-0.282</td>\n",
       "      <td>-0.351</td>\n",
       "      <td>0.0101</td>\n",
       "      <td>0.776</td>\n",
       "      <td>0.175423</td>\n",
       "    </tr>\n",
       "  </tbody>\n",
       "</table>\n",
       "<p>5 rows × 26 columns</p>\n",
       "</div>"
      ],
      "text/plain": [
       "   future_price  strike CE.tradingsymbol PE.tradingsymbol  CE.last_price  \\\n",
       "0         813.1     760   SBIN25JUL760CE   SBIN25JUL760PE          55.00   \n",
       "1         813.1     770   SBIN25JUL770CE   SBIN25JUL770PE          45.75   \n",
       "2         813.1     780   SBIN25JUL780CE   SBIN25JUL780PE          37.00   \n",
       "3         813.1     790   SBIN25JUL790CE   SBIN25JUL790PE          29.20   \n",
       "4         813.1     800   SBIN25JUL800CE   SBIN25JUL800PE          22.00   \n",
       "\n",
       "   CE.ltp_change    CE.last_trade_time    CE.oi  CE.oi_change  CE.volume  ...  \\\n",
       "0          -0.03  2025-07-07T06:14:58Z   188250         0.004      19500  ...   \n",
       "1          -0.04  2025-07-07T06:14:38Z   131250        -0.028      19500  ...   \n",
       "2          -0.05  2025-07-07T06:14:58Z   565500        -0.009      63000  ...   \n",
       "3          -0.06  2025-07-07T06:14:38Z   780750         0.011     348750  ...   \n",
       "4          -0.08  2025-07-07T06:14:50Z  4608000         0.032    1476750  ...   \n",
       "\n",
       "   PE.ltp_change    PE.last_trade_time    PE.oi  PE.oi_change  PE.volume  \\\n",
       "0           0.00  2025-07-07T06:14:58Z  1333500         0.030     267750   \n",
       "1          -0.02  2025-07-07T06:14:38Z  1805250        -0.007     323250   \n",
       "2          -0.01  2025-07-07T06:14:58Z  2113500        -0.007     817500   \n",
       "3           0.00  2025-07-07T06:14:50Z  2029500         0.007     967500   \n",
       "4           0.01  2025-07-07T06:14:58Z  5839500         0.027    2696250   \n",
       "\n",
       "   PE.greeks_with_iv.theta  PE.greeks_with_iv.delta PE.greeks_with_iv.gamma  \\\n",
       "0                   -0.150                   -0.095                  0.0040   \n",
       "1                   -0.177                   -0.131                  0.0053   \n",
       "2                   -0.216                   -0.186                  0.0069   \n",
       "3                   -0.253                   -0.260                  0.0086   \n",
       "4                   -0.282                   -0.351                  0.0101   \n",
       "\n",
       "   PE.greeks_with_iv.vega  PE.greeks_with_iv.iv  \n",
       "0                   0.354              0.204542  \n",
       "1                   0.444              0.192738  \n",
       "2                   0.560              0.185964  \n",
       "3                   0.678              0.180234  \n",
       "4                   0.776              0.175423  \n",
       "\n",
       "[5 rows x 26 columns]"
      ]
     },
     "execution_count": 12,
     "metadata": {},
     "output_type": "execute_result"
    }
   ],
   "source": [
    "greeks_df.head()"
   ]
  },
  {
   "cell_type": "code",
   "execution_count": null,
   "id": "2dfcc7dd",
   "metadata": {},
   "outputs": [],
   "source": []
  }
 ],
 "metadata": {
  "kernelspec": {
   "display_name": "bharat_sm_data",
   "language": "python",
   "name": "python3"
  },
  "language_info": {
   "codemirror_mode": {
    "name": "ipython",
    "version": 3
   },
   "file_extension": ".py",
   "mimetype": "text/x-python",
   "name": "python",
   "nbconvert_exporter": "python",
   "pygments_lexer": "ipython3",
   "version": "3.12.3"
  }
 },
 "nbformat": 4,
 "nbformat_minor": 5
}
